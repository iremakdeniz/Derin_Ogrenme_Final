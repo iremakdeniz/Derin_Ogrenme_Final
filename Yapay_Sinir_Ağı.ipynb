{
  "nbformat": 4,
  "nbformat_minor": 0,
  "metadata": {
    "colab": {
      "provenance": [],
      "gpuType": "T4"
    },
    "kernelspec": {
      "name": "python3",
      "display_name": "Python 3"
    },
    "language_info": {
      "name": "python"
    },
    "accelerator": "GPU"
  },
  "cells": [
    {
      "cell_type": "code",
      "execution_count": 1,
      "metadata": {
        "colab": {
          "base_uri": "https://localhost:8080/"
        },
        "id": "nFfrV0V7q-vi",
        "outputId": "f949e0a2-a8a6-4998-b97e-1313f0ef56df"
      },
      "outputs": [
        {
          "output_type": "stream",
          "name": "stdout",
          "text": [
            "Mounted at /gdrive\n"
          ]
        }
      ],
      "source": [
        "#Drive'a erişilmesi\n",
        "from google.colab import drive\n",
        "drive.mount('/gdrive')"
      ]
    },
    {
      "cell_type": "code",
      "source": [
        "#Kütüphanelerin yüklenmesi\n",
        "import numpy as np\n",
        "import pandas as pd\n",
        "import matplotlib.pyplot as plt\n",
        "import seaborn as sns\n",
        "import glob\n",
        "import cv2\n",
        "import os\n",
        "import tensorflow as tf"
      ],
      "metadata": {
        "id": "NLsVNcQArFbE"
      },
      "execution_count": 2,
      "outputs": []
    },
    {
      "cell_type": "code",
      "source": [
        "#Veri setindeki klasörlerin kontrolü\n",
        "import os\n",
        "print(os.listdir(\"/gdrive/My Drive/YAZ20411/AkcigerVeriSeti\"))"
      ],
      "metadata": {
        "colab": {
          "base_uri": "https://localhost:8080/"
        },
        "id": "FaxcmJARrFdM",
        "outputId": "c432f728-5f65-41f3-988a-02115f91c405"
      },
      "execution_count": 3,
      "outputs": [
        {
          "output_type": "stream",
          "name": "stdout",
          "text": [
            "['training', 'test', 'validation']\n"
          ]
        }
      ]
    },
    {
      "cell_type": "code",
      "source": [
        "#Veri setinin okunması\n",
        "DATADIR = '/gdrive/My Drive/YAZ20411/AkcigerVeriSeti/training/'\n",
        "\n",
        "CATEGORIES = [\"Adenokarsinom\",\"İyiHuyluDoku\",\"SkuamozHucreKarsinomasi\"]"
      ],
      "metadata": {
        "id": "GH5DMi6NrFe8"
      },
      "execution_count": 4,
      "outputs": []
    },
    {
      "cell_type": "code",
      "source": [
        "#Resim boyutunun belirlenmesi\n",
        "IMG_SIZE = 100"
      ],
      "metadata": {
        "id": "z1ACeLpgsQwz"
      },
      "execution_count": 5,
      "outputs": []
    },
    {
      "cell_type": "code",
      "source": [
        "#Verilerin okunması\n",
        "all_data =[]\n",
        "\n",
        "def create_all_data():\n",
        "    for category in CATEGORIES:\n",
        "        path=os.path.join(DATADIR, category)\n",
        "        class_num=CATEGORIES.index(category)\n",
        "        for img in os.listdir(path):\n",
        "            try:\n",
        "                img_array=cv2.imread(os.path.join(path,img))\n",
        "                new_array=cv2.resize(img_array,(IMG_SIZE,IMG_SIZE))\n",
        "                all_data.append([new_array,class_num])\n",
        "            except Exception as e:\n",
        "                pass\n",
        "create_all_data()"
      ],
      "metadata": {
        "id": "C7YY3MfOrFg8"
      },
      "execution_count": 6,
      "outputs": []
    },
    {
      "cell_type": "code",
      "source": [
        "#Toplam görüntü sayısının yazdırılması\n",
        "print(\"Toplam Görüntü Sayısı: \", len(all_data))"
      ],
      "metadata": {
        "colab": {
          "base_uri": "https://localhost:8080/"
        },
        "id": "pPm63vEHi9Wm",
        "outputId": "c06c1b58-4880-4680-b138-06383794560f"
      },
      "execution_count": 7,
      "outputs": [
        {
          "output_type": "stream",
          "name": "stdout",
          "text": [
            "Toplam Görüntü Sayısı:  15000\n"
          ]
        }
      ]
    },
    {
      "cell_type": "code",
      "source": [
        "#Verilerin kategori ve etiket olarak ayrılması\n",
        "X = []\n",
        "y = []\n",
        "\n",
        "for categories, label in all_data:\n",
        "  X.append(categories)\n",
        "  y.append(label)"
      ],
      "metadata": {
        "id": "bGBpdvKarQit"
      },
      "execution_count": 8,
      "outputs": []
    },
    {
      "cell_type": "code",
      "source": [
        "#Verilerin eğitim ve test olarak ayrılması\n",
        "from sklearn.model_selection import train_test_split\n",
        "x_train, x_test, y_train, y_test = train_test_split(X, y, test_size=0.20, random_state =42)\n",
        "x_train, x_val, y_train, y_val = train_test_split(x_train, y_train, test_size=0.10, random_state=42)"
      ],
      "metadata": {
        "id": "XI-Zf-X3rQks"
      },
      "execution_count": 9,
      "outputs": []
    },
    {
      "cell_type": "code",
      "source": [
        "#Verilerin boyutlarının şekillendirilmesi\n",
        "x_train = np.array(x_train)\n",
        "x_test = np.array(x_test)\n",
        "\n",
        "y_train = np.array(y_train)\n",
        "y_test = np.array(y_test)\n",
        "\n",
        "x_val = np.array(x_val)\n",
        "y_val = np.array(y_val)"
      ],
      "metadata": {
        "id": "7NB5729csq0e"
      },
      "execution_count": 10,
      "outputs": []
    },
    {
      "cell_type": "code",
      "source": [
        "#Verilerin boyutlarının yazdırılması\n",
        "print(x_train.shape)\n",
        "print(x_test.shape)\n",
        "print(x_val.shape)\n",
        "\n",
        "print(y_train.shape)\n",
        "print(y_test.shape)\n",
        "print(y_val.shape)"
      ],
      "metadata": {
        "colab": {
          "base_uri": "https://localhost:8080/"
        },
        "id": "jI_vFfW_DRT_",
        "outputId": "c67c2c00-1d28-4e81-d952-ec5de1c0df5e"
      },
      "execution_count": 11,
      "outputs": [
        {
          "output_type": "stream",
          "name": "stdout",
          "text": [
            "(10800, 100, 100, 3)\n",
            "(3000, 100, 100, 3)\n",
            "(1200, 100, 100, 3)\n",
            "(10800,)\n",
            "(3000,)\n",
            "(1200,)\n"
          ]
        }
      ]
    },
    {
      "cell_type": "code",
      "source": [
        "#Verilerin kategorize edilmesi\n",
        "train_yCl = tf.keras.utils.to_categorical(y_train, num_classes=3)\n",
        "test_yCl = tf.keras.utils.to_categorical(y_test, num_classes=3)\n",
        "valid_yCl = tf.keras.utils.to_categorical(y_val, num_classes=3)"
      ],
      "metadata": {
        "id": "hbSLX-7GEPUT"
      },
      "execution_count": 17,
      "outputs": []
    },
    {
      "cell_type": "code",
      "source": [
        "#Modelin oluşturulması\n",
        "from keras.models import Sequential\n",
        "from keras.layers import Conv2D, MaxPooling2D, Flatten, Dense\n",
        "\n",
        "\n",
        "input_shape = (100, 100, 3)\n",
        "\n",
        "model = Sequential()\n",
        "\n",
        "model.add(Conv2D(32, (3, 3), activation='relu', input_shape=input_shape))\n",
        "model.add(MaxPooling2D((2, 2)))\n",
        "model.add(Conv2D(64, (3, 3), activation='relu'))\n",
        "model.add(MaxPooling2D((2, 2)))\n",
        "model.add(Conv2D(128, (3, 3), activation='relu'))\n",
        "model.add(MaxPooling2D((2, 2)))\n",
        "model.add(Flatten())\n",
        "model.add(Dense(128, activation='relu'))\n",
        "model.add(Dense(3, activation='softmax'))\n",
        "\n",
        "# Modelin derlenmesi\n",
        "model.compile(optimizer='adam', loss='categorical_crossentropy', metrics=['accuracy'])\n",
        "\n",
        "# Modelin özetlenmesi\n",
        "model.summary()\n"
      ],
      "metadata": {
        "colab": {
          "base_uri": "https://localhost:8080/"
        },
        "id": "rl2Skg9rrQm1",
        "outputId": "1bd255d7-8127-4d6f-f1bf-c0906a3423d3"
      },
      "execution_count": 18,
      "outputs": [
        {
          "output_type": "stream",
          "name": "stdout",
          "text": [
            "Model: \"sequential_1\"\n",
            "_________________________________________________________________\n",
            " Layer (type)                Output Shape              Param #   \n",
            "=================================================================\n",
            " conv2d_3 (Conv2D)           (None, 98, 98, 32)        896       \n",
            "                                                                 \n",
            " max_pooling2d_3 (MaxPoolin  (None, 49, 49, 32)        0         \n",
            " g2D)                                                            \n",
            "                                                                 \n",
            " conv2d_4 (Conv2D)           (None, 47, 47, 64)        18496     \n",
            "                                                                 \n",
            " max_pooling2d_4 (MaxPoolin  (None, 23, 23, 64)        0         \n",
            " g2D)                                                            \n",
            "                                                                 \n",
            " conv2d_5 (Conv2D)           (None, 21, 21, 128)       73856     \n",
            "                                                                 \n",
            " max_pooling2d_5 (MaxPoolin  (None, 10, 10, 128)       0         \n",
            " g2D)                                                            \n",
            "                                                                 \n",
            " flatten_1 (Flatten)         (None, 12800)             0         \n",
            "                                                                 \n",
            " dense_2 (Dense)             (None, 128)               1638528   \n",
            "                                                                 \n",
            " dense_3 (Dense)             (None, 3)                 387       \n",
            "                                                                 \n",
            "=================================================================\n",
            "Total params: 1732163 (6.61 MB)\n",
            "Trainable params: 1732163 (6.61 MB)\n",
            "Non-trainable params: 0 (0.00 Byte)\n",
            "_________________________________________________________________\n"
          ]
        }
      ]
    },
    {
      "cell_type": "code",
      "source": [
        "#Modelin eğitilmesi\n",
        "hist=model.fit(x_train,train_yCl,epochs=10,batch_size=64,validation_data=(x_val, valid_yCl))"
      ],
      "metadata": {
        "colab": {
          "base_uri": "https://localhost:8080/"
        },
        "id": "IFUXZ3UyrQtE",
        "outputId": "a5034628-83f0-4aeb-a2f3-03b0887fe47f"
      },
      "execution_count": 25,
      "outputs": [
        {
          "output_type": "stream",
          "name": "stdout",
          "text": [
            "Epoch 1/10\n",
            "169/169 [==============================] - 5s 20ms/step - loss: 8.2579 - accuracy: 0.7643 - val_loss: 0.3438 - val_accuracy: 0.8725\n",
            "Epoch 2/10\n",
            "169/169 [==============================] - 3s 19ms/step - loss: 0.3297 - accuracy: 0.8663 - val_loss: 0.2456 - val_accuracy: 0.8958\n",
            "Epoch 3/10\n",
            "169/169 [==============================] - 3s 20ms/step - loss: 0.2630 - accuracy: 0.8923 - val_loss: 0.2148 - val_accuracy: 0.9083\n",
            "Epoch 4/10\n",
            "169/169 [==============================] - 3s 20ms/step - loss: 0.2298 - accuracy: 0.9062 - val_loss: 0.2331 - val_accuracy: 0.9150\n",
            "Epoch 5/10\n",
            "169/169 [==============================] - 3s 19ms/step - loss: 0.1991 - accuracy: 0.9202 - val_loss: 0.1749 - val_accuracy: 0.9292\n",
            "Epoch 6/10\n",
            "169/169 [==============================] - 3s 19ms/step - loss: 0.1802 - accuracy: 0.9319 - val_loss: 0.1988 - val_accuracy: 0.9225\n",
            "Epoch 7/10\n",
            "169/169 [==============================] - 3s 19ms/step - loss: 0.1998 - accuracy: 0.9215 - val_loss: 0.1925 - val_accuracy: 0.9308\n",
            "Epoch 8/10\n",
            "169/169 [==============================] - 3s 20ms/step - loss: 0.1406 - accuracy: 0.9450 - val_loss: 0.1415 - val_accuracy: 0.9392\n",
            "Epoch 9/10\n",
            "169/169 [==============================] - 3s 19ms/step - loss: 0.1241 - accuracy: 0.9511 - val_loss: 0.1307 - val_accuracy: 0.9475\n",
            "Epoch 10/10\n",
            "169/169 [==============================] - 3s 19ms/step - loss: 0.1140 - accuracy: 0.9549 - val_loss: 0.1320 - val_accuracy: 0.9508\n"
          ]
        }
      ]
    },
    {
      "cell_type": "code",
      "source": [
        "#Değerlendirme skorlarının belirlenmesi\n",
        "from sklearn.metrics import accuracy_score, precision_score, recall_score, f1_score, classification_report, confusion_matrix\n",
        "from keras.utils import to_categorical\n",
        "\n",
        "y_pred = model.predict(x_test)\n",
        "y_test_encoded = to_categorical(y_test)\n",
        "y_pred_classes = np.argmax(y_pred, axis=1)\n",
        "y_test_classes = np.argmax(y_test_encoded, axis=1)\n",
        "\n",
        "\n",
        "accuracy = accuracy_score(y_test_classes, y_pred_classes)\n",
        "print(\"Accuracy:\", accuracy)\n",
        "\n",
        "precision = precision_score(y_test_classes, y_pred_classes, average='weighted')\n",
        "print(\"Precision:\", precision)\n",
        "\n",
        "recall = recall_score(y_test_classes, y_pred_classes, average='weighted')\n",
        "print(\"Recall:\", recall)\n",
        "\n",
        "f1 = f1_score(y_test_classes, y_pred_classes, average='weighted')\n",
        "print(\"F1 Score:\", f1)\n",
        "\n",
        "print(\"\\nClassification Report:\")\n",
        "print(classification_report(y_test_classes, y_pred_classes))\n"
      ],
      "metadata": {
        "colab": {
          "base_uri": "https://localhost:8080/"
        },
        "id": "SQbiNStxrXo0",
        "outputId": "83e702ab-fe0f-4957-bab8-c01175e4f661"
      },
      "execution_count": 26,
      "outputs": [
        {
          "output_type": "stream",
          "name": "stdout",
          "text": [
            "94/94 [==============================] - 0s 4ms/step\n",
            "Accuracy: 0.9503333333333334\n",
            "Precision: 0.9509413529388531\n",
            "Recall: 0.9503333333333334\n",
            "F1 Score: 0.9500642574019504\n",
            "\n",
            "Classification Report:\n",
            "              precision    recall  f1-score   support\n",
            "\n",
            "           0       0.96      0.90      0.93      1037\n",
            "           1       0.98      1.00      0.99       970\n",
            "           2       0.91      0.96      0.94       993\n",
            "\n",
            "    accuracy                           0.95      3000\n",
            "   macro avg       0.95      0.95      0.95      3000\n",
            "weighted avg       0.95      0.95      0.95      3000\n",
            "\n"
          ]
        }
      ]
    },
    {
      "cell_type": "code",
      "source": [
        "#Karmaşıklık matrisi için gerekli grafiğin oluşturulması\n",
        "import itertools\n",
        "\n",
        "def plot_confusion_matrix(cm, classes, normalize=True, title='Confusion matrix', cmap=plt.cm.Reds):\n",
        "    \"\"\"\n",
        "    This function prints and plots the confusion matrix.\n",
        "    Normalization can be applied by setting `normalize=True`.\n",
        "    \"\"\"\n",
        "    plt.figure(figsize=(10,10))\n",
        "    plt.imshow(cm, interpolation='nearest', cmap=cmap)\n",
        "    plt.title(title)\n",
        "    plt.colorbar()\n",
        "    tick_marks = np.arange(len(classes))\n",
        "    plt.xticks(tick_marks, classes, rotation=45)\n",
        "    plt.yticks(tick_marks, classes)\n",
        "    if normalize:\n",
        "        cm = cm.astype('float') / cm.sum(axis=1)[:, np.newaxis]\n",
        "        cm = np.around(cm, decimals=2)\n",
        "        cm[np.isnan(cm)] = 0.0\n",
        "    thresh = cm.max() / 2.\n",
        "    for i, j in itertools.product(range(cm.shape[0]), range(cm.shape[1])):\n",
        "        plt.text(j, i, cm[i, j],\n",
        "                 horizontalalignment=\"center\",\n",
        "                 color=\"white\" if cm[i, j] > thresh else \"black\")\n",
        "    plt.tight_layout()\n",
        "    plt.ylabel('True label')\n",
        "    plt.xlabel('Predicted label')"
      ],
      "metadata": {
        "id": "H-funHICrXqs"
      },
      "execution_count": 27,
      "outputs": []
    },
    {
      "cell_type": "code",
      "source": [
        "#Karmaşıklık matrisinin yazdırılması\n",
        "y_pred_classes = np.argmax(y_pred, axis=1)\n",
        "y_test_classes = np.argmax(y_test_encoded, axis=1)\n",
        "cm = confusion_matrix(y_test_classes, y_pred_classes)\n",
        "classes = [\"Adenokarsinom\",\"İyiHuyluDoku\",\"SkuamozHucreKarsinomasi\"]\n",
        "plot_confusion_matrix(cm, classes, title='Confusion Matrix')\n"
      ],
      "metadata": {
        "colab": {
          "base_uri": "https://localhost:8080/",
          "height": 964
        },
        "id": "SbYqojkAbKbB",
        "outputId": "9d89c3cf-2241-4bd7-8929-86d3cc8d92a1"
      },
      "execution_count": 28,
      "outputs": [
        {
          "output_type": "display_data",
          "data": {
            "text/plain": [
              "<Figure size 1000x1000 with 2 Axes>"
            ],
            "image/png": "[encoded data removed]"
          },
          "metadata": {}
        }
      ]
    }
  ]
}