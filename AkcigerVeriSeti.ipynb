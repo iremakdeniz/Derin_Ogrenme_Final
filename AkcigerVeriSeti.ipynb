{
  "nbformat": 4,
  "nbformat_minor": 0,
  "metadata": {
    "colab": {
      "provenance": [],
      "gpuType": "T4"
    },
    "kernelspec": {
      "name": "python3",
      "display_name": "Python 3"
    },
    "language_info": {
      "name": "python"
    },
    "accelerator": "GPU"
  },
  "cells": [
    {
      "cell_type": "code",
      "execution_count": 5,
      "metadata": {
        "colab": {
          "base_uri": "https://localhost:8080/"
        },
        "id": "jAGfJkUXIJIH",
        "outputId": "e0615afc-d316-44df-d485-70865784fd47"
      },
      "outputs": [
        {
          "output_type": "stream",
          "name": "stdout",
          "text": [
            "Mounted at /gdrive\n"
          ]
        }
      ],
      "source": [
        "#Drive'a erişilmesi\n",
        "from google.colab import drive\n",
        "drive.mount('/gdrive')"
      ]
    },
    {
      "cell_type": "code",
      "source": [
        "#Kütüphanelerin yüklenmesi\n",
        "import numpy as np\n",
        "import pandas as pd\n",
        "import matplotlib.pyplot as plt\n",
        "import seaborn as sns\n",
        "import glob\n",
        "import cv2\n",
        "import os\n",
        "import tensorflow as tf"
      ],
      "metadata": {
        "id": "rgLICC5tIVbY"
      },
      "execution_count": 6,
      "outputs": []
    },
    {
      "cell_type": "code",
      "source": [
        "#Veri setindeki klasörlerin kontrolü\n",
        "import os\n",
        "print(os.listdir(\"/gdrive/My Drive/YAZ20411/AkcigerVeriSeti\"))"
      ],
      "metadata": {
        "colab": {
          "base_uri": "https://localhost:8080/"
        },
        "id": "1K0fercBIVdO",
        "outputId": "8d737ba9-14f3-4d02-c2cd-e3dc4fae648a"
      },
      "execution_count": 7,
      "outputs": [
        {
          "output_type": "stream",
          "name": "stdout",
          "text": [
            "['training', 'test', 'validation']\n"
          ]
        }
      ]
    },
    {
      "cell_type": "code",
      "source": [
        "#Veri setinin okunması\n",
        "DATADIR = '/gdrive/My Drive/YAZ20411/AkcigerVeriSeti/training/'\n",
        "\n",
        "CATEGORIES = [\"Adenokarsinom\",\"İyiHuyluDoku\",\"SkuamozHucreKarsinomasi\"]"
      ],
      "metadata": {
        "id": "_JS2F-8tIVfW"
      },
      "execution_count": 8,
      "outputs": []
    },
    {
      "cell_type": "code",
      "source": [
        "#Resim boyutunun belirlenmesi\n",
        "IMG_SIZE = 100"
      ],
      "metadata": {
        "id": "jxAli9NaIVhX"
      },
      "execution_count": 9,
      "outputs": []
    },
    {
      "cell_type": "code",
      "source": [
        "#Verilerin okunması\n",
        "all_data =[]\n",
        "\n",
        "def create_all_data():\n",
        "    for category in CATEGORIES:\n",
        "        path=os.path.join(DATADIR, category)\n",
        "        class_num=CATEGORIES.index(category)\n",
        "        for img in os.listdir(path):\n",
        "            try:\n",
        "                img_array=cv2.imread(os.path.join(path,img))\n",
        "                new_array=cv2.resize(img_array,(IMG_SIZE,IMG_SIZE))\n",
        "                all_data.append([new_array,class_num])\n",
        "            except Exception as e:\n",
        "                pass\n",
        "create_all_data()"
      ],
      "metadata": {
        "id": "LywkNGpfGhow"
      },
      "execution_count": 10,
      "outputs": []
    },
    {
      "cell_type": "code",
      "source": [
        "#Toplam görüntü sayısının yazdırılması\n",
        "print(\"Toplam Görüntü Sayısı: \", len(all_data))"
      ],
      "metadata": {
        "colab": {
          "base_uri": "https://localhost:8080/"
        },
        "id": "-Jwg2S6vba_B",
        "outputId": "914206ce-f185-4b50-cc66-c66bc596b743"
      },
      "execution_count": 11,
      "outputs": [
        {
          "output_type": "stream",
          "name": "stdout",
          "text": [
            "Toplam Görüntü Sayısı:  15000\n"
          ]
        }
      ]
    },
    {
      "cell_type": "code",
      "source": [
        "#Verilerin kategori ve etiket olarak ayrılması\n",
        "X = []\n",
        "y = []\n",
        "\n",
        "for categories, label in all_data:\n",
        "  X.append(categories)\n",
        "  y.append(label)"
      ],
      "metadata": {
        "id": "iHQ_uZ7RLFna"
      },
      "execution_count": 12,
      "outputs": []
    },
    {
      "cell_type": "code",
      "source": [
        "#Verilerin eğitim ve test olarak ayrılması\n",
        "from sklearn.model_selection import train_test_split\n",
        "\n",
        "x_train, x_test, y_train, y_test = train_test_split(X, y, test_size=0.20, random_state =42)\n",
        "\n",
        "x_train, x_val, y_train, y_val = train_test_split(x_train, y_train, test_size=0.10, random_state=42)"
      ],
      "metadata": {
        "id": "pbht2r_ILFpx"
      },
      "execution_count": 13,
      "outputs": []
    },
    {
      "cell_type": "code",
      "source": [
        "#Verilerin boyutlarının şekillendirilmesi\n",
        "x_train = np.array(x_train)\n",
        "x_test = np.array(x_test)\n",
        "\n",
        "y_train = np.array(y_train)\n",
        "y_test = np.array(y_test)\n",
        "\n",
        "x_val = np.array(x_val)\n",
        "y_val = np.array(y_val)"
      ],
      "metadata": {
        "id": "hMLxhKpVLFx7"
      },
      "execution_count": 14,
      "outputs": []
    },
    {
      "cell_type": "code",
      "source": [
        "#Verilerin boyutlarının yazdırılması\n",
        "print(x_train.shape)\n",
        "print(x_test.shape)\n",
        "print(x_val.shape)\n",
        "\n",
        "print(y_train.shape)\n",
        "print(y_test.shape)\n",
        "print(y_val.shape)"
      ],
      "metadata": {
        "id": "Arir9_LHLF0W",
        "colab": {
          "base_uri": "https://localhost:8080/"
        },
        "outputId": "45926cc1-cac9-4061-a3c1-cf581b103540"
      },
      "execution_count": 15,
      "outputs": [
        {
          "output_type": "stream",
          "name": "stdout",
          "text": [
            "(10800, 100, 100, 3)\n",
            "(3000, 100, 100, 3)\n",
            "(1200, 100, 100, 3)\n",
            "(10800,)\n",
            "(3000,)\n",
            "(1200,)\n"
          ]
        }
      ]
    },
    {
      "cell_type": "code",
      "source": [
        "#Verilerin kategorize edilmesi\n",
        "import tensorflow as tf\n",
        "\n",
        "train_yCl = tf.keras.utils.to_categorical(y_train, num_classes=3)\n",
        "test_yCl = tf.keras.utils.to_categorical(y_test, num_classes=3)\n",
        "valid_yCl = tf.keras.utils.to_categorical(y_val, num_classes=3)\n"
      ],
      "metadata": {
        "id": "dLStDKeFO2im"
      },
      "execution_count": 16,
      "outputs": []
    },
    {
      "cell_type": "code",
      "source": [
        "#Modelin oluşturulması\n",
        "from keras.layers import Input, Dense, Activation, BatchNormalization, Flatten, Conv2D, MaxPooling2D, Dropout\n",
        "from keras.models import Sequential\n",
        "\n",
        "model = Sequential()\n",
        "\n",
        "model.add(Conv2D(64, (3,3), padding='same', input_shape=(IMG_SIZE, IMG_SIZE, 3)))\n",
        "model.add(Activation('relu'))\n",
        "model.add(Conv2D(64, (3,3), padding='same'))\n",
        "model.add(Activation('relu'))\n",
        "model.add(MaxPooling2D(pool_size=(2,2)))\n",
        "model.add(BatchNormalization())\n",
        "model.add(Dropout(0.1))\n",
        "\n",
        "model.add(Conv2D(64, (3,3), padding='same'))\n",
        "model.add(Activation('relu'))\n",
        "model.add(Conv2D(64, (3,3), padding='same'))\n",
        "model.add(Activation('relu'))\n",
        "model.add(MaxPooling2D(pool_size=(2,2)))\n",
        "model.add(BatchNormalization())\n",
        "model.add(Dropout(0.1))\n",
        "\n",
        "model.add(Conv2D(128, (3,3), padding='same'))\n",
        "model.add(Activation('relu'))\n",
        "model.add(Conv2D(128, (3,3), padding='same'))\n",
        "model.add(Activation('relu'))\n",
        "model.add(MaxPooling2D(pool_size=(2,2)))\n",
        "model.add(BatchNormalization())\n",
        "model.add(Dropout(0.1))\n",
        "\n",
        "model.add(Flatten())\n",
        "model.add(Dense(1024))\n",
        "model.add(Activation('relu'))\n",
        "model.add(Dropout(0.4))\n",
        "model.add(Dense(1024))\n",
        "model.add(Activation('relu'))\n",
        "model.add(Dense(3))\n",
        "model.add(Activation('softmax'))\n",
        "model.summary()\n",
        "#Modelin derlenmesi\n",
        "model.compile(loss=\"categorical_crossentropy\", optimizer=\"adam\", metrics=['accuracy'])\n"
      ],
      "metadata": {
        "id": "wDdmZMtDFhLm",
        "colab": {
          "base_uri": "https://localhost:8080/"
        },
        "outputId": "abd9544b-67c2-45d6-9045-4abbf16d687f"
      },
      "execution_count": 17,
      "outputs": [
        {
          "output_type": "stream",
          "name": "stdout",
          "text": [
            "Model: \"sequential\"\n",
            "_________________________________________________________________\n",
            " Layer (type)                Output Shape              Param #   \n",
            "=================================================================\n",
            " conv2d (Conv2D)             (None, 100, 100, 64)      1792      \n",
            "                                                                 \n",
            " activation (Activation)     (None, 100, 100, 64)      0         \n",
            "                                                                 \n",
            " conv2d_1 (Conv2D)           (None, 100, 100, 64)      36928     \n",
            "                                                                 \n",
            " activation_1 (Activation)   (None, 100, 100, 64)      0         \n",
            "                                                                 \n",
            " max_pooling2d (MaxPooling2  (None, 50, 50, 64)        0         \n",
            " D)                                                              \n",
            "                                                                 \n",
            " batch_normalization (Batch  (None, 50, 50, 64)        256       \n",
            " Normalization)                                                  \n",
            "                                                                 \n",
            " dropout (Dropout)           (None, 50, 50, 64)        0         \n",
            "                                                                 \n",
            " conv2d_2 (Conv2D)           (None, 50, 50, 64)        36928     \n",
            "                                                                 \n",
            " activation_2 (Activation)   (None, 50, 50, 64)        0         \n",
            "                                                                 \n",
            " conv2d_3 (Conv2D)           (None, 50, 50, 64)        36928     \n",
            "                                                                 \n",
            " activation_3 (Activation)   (None, 50, 50, 64)        0         \n",
            "                                                                 \n",
            " max_pooling2d_1 (MaxPoolin  (None, 25, 25, 64)        0         \n",
            " g2D)                                                            \n",
            "                                                                 \n",
            " batch_normalization_1 (Bat  (None, 25, 25, 64)        256       \n",
            " chNormalization)                                                \n",
            "                                                                 \n",
            " dropout_1 (Dropout)         (None, 25, 25, 64)        0         \n",
            "                                                                 \n",
            " conv2d_4 (Conv2D)           (None, 25, 25, 128)       73856     \n",
            "                                                                 \n",
            " activation_4 (Activation)   (None, 25, 25, 128)       0         \n",
            "                                                                 \n",
            " conv2d_5 (Conv2D)           (None, 25, 25, 128)       147584    \n",
            "                                                                 \n",
            " activation_5 (Activation)   (None, 25, 25, 128)       0         \n",
            "                                                                 \n",
            " max_pooling2d_2 (MaxPoolin  (None, 12, 12, 128)       0         \n",
            " g2D)                                                            \n",
            "                                                                 \n",
            " batch_normalization_2 (Bat  (None, 12, 12, 128)       512       \n",
            " chNormalization)                                                \n",
            "                                                                 \n",
            " dropout_2 (Dropout)         (None, 12, 12, 128)       0         \n",
            "                                                                 \n",
            " flatten (Flatten)           (None, 18432)             0         \n",
            "                                                                 \n",
            " dense (Dense)               (None, 1024)              18875392  \n",
            "                                                                 \n",
            " activation_6 (Activation)   (None, 1024)              0         \n",
            "                                                                 \n",
            " dropout_3 (Dropout)         (None, 1024)              0         \n",
            "                                                                 \n",
            " dense_1 (Dense)             (None, 1024)              1049600   \n",
            "                                                                 \n",
            " activation_7 (Activation)   (None, 1024)              0         \n",
            "                                                                 \n",
            " dense_2 (Dense)             (None, 3)                 3075      \n",
            "                                                                 \n",
            " activation_8 (Activation)   (None, 3)                 0         \n",
            "                                                                 \n",
            "=================================================================\n",
            "Total params: 20263107 (77.30 MB)\n",
            "Trainable params: 20262595 (77.30 MB)\n",
            "Non-trainable params: 512 (2.00 KB)\n",
            "_________________________________________________________________\n"
          ]
        }
      ]
    },
    {
      "cell_type": "markdown",
      "source": [
        "# Hiperparametre Optimizasyonu"
      ],
      "metadata": {
        "id": "y9F-hfsh64Om"
      }
    },
    {
      "cell_type": "code",
      "source": [
        "#Kütüphane kurulması\n",
        "!pip install scikeras"
      ],
      "metadata": {
        "colab": {
          "base_uri": "https://localhost:8080/"
        },
        "id": "MfGHLHEtv2wR",
        "outputId": "35f7dec1-e9fb-499b-c9b6-9fea97bad8af"
      },
      "execution_count": null,
      "outputs": [
        {
          "output_type": "stream",
          "name": "stdout",
          "text": [
            "Collecting scikeras\n",
            "  Downloading scikeras-0.12.0-py3-none-any.whl (27 kB)\n",
            "Requirement already satisfied: packaging>=0.21 in /usr/local/lib/python3.10/dist-packages (from scikeras) (23.2)\n",
            "Requirement already satisfied: scikit-learn>=1.0.0 in /usr/local/lib/python3.10/dist-packages (from scikeras) (1.2.2)\n",
            "Requirement already satisfied: numpy>=1.17.3 in /usr/local/lib/python3.10/dist-packages (from scikit-learn>=1.0.0->scikeras) (1.23.5)\n",
            "Requirement already satisfied: scipy>=1.3.2 in /usr/local/lib/python3.10/dist-packages (from scikit-learn>=1.0.0->scikeras) (1.11.4)\n",
            "Requirement already satisfied: joblib>=1.1.1 in /usr/local/lib/python3.10/dist-packages (from scikit-learn>=1.0.0->scikeras) (1.3.2)\n",
            "Requirement already satisfied: threadpoolctl>=2.0.0 in /usr/local/lib/python3.10/dist-packages (from scikit-learn>=1.0.0->scikeras) (3.2.0)\n",
            "Installing collected packages: scikeras\n",
            "Successfully installed scikeras-0.12.0\n"
          ]
        }
      ]
    },
    {
      "cell_type": "code",
      "source": [
        "#Hiperparametre optimizasyonu için gerekli kütüphanelerin kurulması ve model oluşturulması\n",
        "from sklearn.model_selection import GridSearchCV\n",
        "from scikeras.wrappers import KerasClassifier\n",
        "from tf.keras.optimizers.SGD\n",
        "def create_model():\n",
        "        model = Sequential()\n",
        "        model.add(Conv2D(4, (3, 3), activation='relu', padding='same', input_shape=(100, 100, 3)))\n",
        "        model.add(MaxPooling2D((2, 2)))\n",
        "        model.add(Conv2D(8, (3, 3), activation='relu', padding='same'))\n",
        "        model.add(MaxPooling2D((2, 2)))\n",
        "        model.add(Flatten())\n",
        "        model.add(Dense(16, activation='relu'))\n",
        "        model.add(Dense(3, activation='softmax'))\n",
        "        opt = SGD(learning_rate=0.001, momentum=0.9)\n",
        "        model.compile(optimizer=opt, loss='categorical_crossentropy', metrics=['accuracy'])\n",
        "        return model\n",
        "\n",
        "\n",
        "# Hiperparametre aralıklarının belirlenmesi\n",
        "param_grid = {\n",
        "    'batch_size': [16, 32, 64],\n",
        "    'epochs': [10, 20, 30]\n",
        "}\n",
        "\n",
        "model = KerasClassifier(model=create_model, verbose=0)\n",
        "\n",
        "# GridSearchCV kullanarak optimizasyonun gerçekleştirilmesi\n",
        "grid = GridSearchCV(estimator=model, param_grid=param_grid, n_jobs=1, cv=3)\n",
        "grid_result = grid.fit(x_train, train_yCl)\n",
        "\n",
        "\n",
        "print(\"\\nThe best parameter is {}\".format(grid_result.best_params_))\n",
        "print(\"\\nThe best_accuracy is {}\".format(grid_result.best_score_))\n"
      ],
      "metadata": {
        "id": "vs9MKYDS68nf"
      },
      "execution_count": null,
      "outputs": []
    },
    {
      "cell_type": "code",
      "source": [
        "from tensorflow import keras\n",
        "\n",
        "callback_list = [\n",
        "    keras.callbacks.ModelCheckpoint(      #Modelin eğitimi sırasında belirli bir ölçütü izleyerek en iyi performansa sahip ağırlıkları kaydeder.\n",
        "        filepath='model.h5',\n",
        "        monitor = 'val_accuracy', save_best_only=True, verbose=3\n",
        "    ),\n",
        "    keras.callbacks.EarlyStopping(monitor='val_loss', patience=10, verbose=3)  #Eğitim sırasında belirli bir metriğin belirli bir süre boyunca iyileşmemesi durumunda eğitimi durdurur.\n",
        "]"
      ],
      "metadata": {
        "id": "VXo2aYqeFhPd"
      },
      "execution_count": 18,
      "outputs": []
    },
    {
      "cell_type": "code",
      "source": [
        "#Modelin eğitilmesi\n",
        "history = model.fit(x_train, train_yCl,\n",
        "                    batch_size=64,\n",
        "                    validation_data = (x_val, valid_yCl),\n",
        "                    callbacks = callback_list,\n",
        "                    epochs = 20\n",
        "                    )"
      ],
      "metadata": {
        "id": "eMfM_2raRMh6",
        "colab": {
          "base_uri": "https://localhost:8080/"
        },
        "outputId": "382799ea-1598-4946-e8e5-416cb3e58956"
      },
      "execution_count": null,
      "outputs": [
        {
          "output_type": "stream",
          "name": "stdout",
          "text": [
            "Epoch 1/20\n",
            " 15/169 [=>............................] - ETA: 25:54 - loss: 2.8280 - accuracy: 0.6896"
          ]
        }
      ]
    },
    {
      "cell_type": "code",
      "source": [
        "#Eğitim,test ve validation skorlarının doğruluk değerinin hesaplanması\n",
        "score_valid = model.evaluate(x_val, valid_yCl)\n",
        "print(\"Validation Accuracy: \", score_valid[1])\n",
        "\n",
        "score_test = model.evaluate(x_test, test_yCl)\n",
        "print(\"Validation Accuracy: \", score_test[1])\n",
        "\n",
        "score_train = model.evaluate(x_train, train_yCl)\n",
        "print(\"Validation Accuracy: \", score_train[1])"
      ],
      "metadata": {
        "id": "jiPobEYbauEN",
        "colab": {
          "base_uri": "https://localhost:8080/"
        },
        "outputId": "a9fc773d-3133-41bd-c1e0-b3144e3db4e1"
      },
      "execution_count": null,
      "outputs": [
        {
          "output_type": "stream",
          "name": "stdout",
          "text": [
            "38/38 [==============================] - 2s 28ms/step - loss: 0.2070 - accuracy: 0.9533\n",
            "Validation Accuracy:  0.95333331823349\n",
            "94/94 [==============================] - 2s 20ms/step - loss: 0.1879 - accuracy: 0.9540\n",
            "Validation Accuracy:  0.9539999961853027\n",
            "338/338 [==============================] - 5s 14ms/step - loss: 0.1004 - accuracy: 0.9716\n",
            "Validation Accuracy:  0.971574068069458\n"
          ]
        }
      ]
    },
    {
      "cell_type": "code",
      "source": [
        "#Karmaşıklık matrisi için gerekli grafiğin oluşturulması\n",
        "import itertools\n",
        "\n",
        "def plot_confusion_matrix(cm, classes, normalize=True, title='Confusion matrix', cmap=plt.cm.Reds):\n",
        "    \"\"\"\n",
        "    This function prints and plots the confusion matrix.\n",
        "    Normalization can be applied by setting `normalize=True`.\n",
        "    \"\"\"\n",
        "    plt.figure(figsize=(10,10))\n",
        "    plt.imshow(cm, interpolation='nearest', cmap=cmap)\n",
        "    plt.title(title)\n",
        "    plt.colorbar()\n",
        "    tick_marks = np.arange(len(classes))\n",
        "    plt.xticks(tick_marks, classes, rotation=45)\n",
        "    plt.yticks(tick_marks, classes)\n",
        "    if normalize:\n",
        "        cm = cm.astype('float') / cm.sum(axis=1)[:, np.newaxis]\n",
        "        cm = np.around(cm, decimals=2)\n",
        "        cm[np.isnan(cm)] = 0.0\n",
        "    thresh = cm.max() / 2.\n",
        "    for i, j in itertools.product(range(cm.shape[0]), range(cm.shape[1])):\n",
        "        plt.text(j, i, cm[i, j],\n",
        "                 horizontalalignment=\"center\",\n",
        "                 color=\"white\" if cm[i, j] > thresh else \"black\")\n",
        "    plt.tight_layout()\n",
        "    plt.ylabel('True label')\n",
        "    plt.xlabel('Predicted label')"
      ],
      "metadata": {
        "id": "_gCTVYQpfXaT"
      },
      "execution_count": null,
      "outputs": []
    },
    {
      "cell_type": "code",
      "source": [
        "#Değerlendirme skorlarının belirlenmesi\n",
        "from sklearn.metrics import accuracy_score, precision_score, recall_score, f1_score, classification_report,confusion_matrix\n",
        "from keras.utils import to_categorical\n",
        "def evaluate_model(model, x_test, y_test):\n",
        "    # Accuracy Score\n",
        "    y_pred = model.predict(x_test)\n",
        "    y_test_encoded = to_categorical(y_test)\n",
        "    y_pred_classes = np.argmax(y_pred, axis=1)\n",
        "    y_test_classes = np.argmax(y_test_encoded, axis=1)\n",
        "\n",
        "\n",
        "    accuracy = accuracy_score(y_test_classes, y_pred_classes)\n",
        "    print(f\"Accuracy: {accuracy}\")\n",
        "\n",
        "    # Precision Score\n",
        "    precision = precision_score(y_test_classes, y_pred_classes, average='weighted')\n",
        "    print(f\"Precision: {precision}\")\n",
        "\n",
        "    # Recall Score\n",
        "    recall = recall_score(y_test_classes, y_pred_classes, average='weighted')\n",
        "    print(f\"Recall: {recall}\")\n",
        "\n",
        "    # F1 Score\n",
        "    f1 = f1_score(y_test_classes, y_pred_classes, average='weighted')\n",
        "    print(f\"F1-Score: {f1}\")\n",
        "\n",
        "    # Classification Report\n",
        "    print(\"Classification Report:\")\n",
        "    print(classification_report(y_test_classes, y_pred_classes))\n",
        "\n",
        "    # Confusion Matrix\n",
        "    cm = confusion_matrix(y_test_classes, y_pred_classes)\n",
        "    classes = [\"Adenokarsinom\",\"İyiHuyluDoku\",\"SkuamozHucreKarsinomasi\"]\n",
        "    plot_confusion_matrix(cm, classes, title='Confusion Matrix')\n",
        "\n",
        "#Modelin değerlendirilmesi\n",
        "evaluate_model(model, x_test, y_test)"
      ],
      "metadata": {
        "colab": {
          "base_uri": "https://localhost:8080/",
          "height": 1000
        },
        "id": "EGWyl_UMfXci",
        "outputId": "00586c71-8266-4063-db54-d0a43ee1480b"
      },
      "execution_count": null,
      "outputs": [
        {
          "output_type": "stream",
          "name": "stdout",
          "text": [
            "94/94 [==============================] - 2s 20ms/step\n",
            "Accuracy: 0.954\n",
            "Precision: 0.9550886372126525\n",
            "Recall: 0.954\n",
            "F1-Score: 0.9539963736714402\n",
            "Classification Report:\n",
            "              precision    recall  f1-score   support\n",
            "\n",
            "           0       0.96      0.91      0.93      1037\n",
            "           1       0.99      0.98      0.99       970\n",
            "           2       0.91      0.97      0.94       993\n",
            "\n",
            "    accuracy                           0.95      3000\n",
            "   macro avg       0.96      0.95      0.95      3000\n",
            "weighted avg       0.96      0.95      0.95      3000\n",
            "\n"
          ]
        },
        {
          "output_type": "display_data",
          "data": {
            "text/plain": [
              "<Figure size 1000x1000 with 2 Axes>"
            ],
            "image/png": "[encoded data removed]"
          },
          "metadata": {}
        }
      ]
    },
    {
      "cell_type": "markdown",
      "source": [
        "#Transfer Learning"
      ],
      "metadata": {
        "id": "KzdM6u6sxneS"
      }
    },
    {
      "cell_type": "code",
      "source": [
        "#Transfer Learning modelinin tanımlanması\n",
        "res=tf.keras.applications.ResNet50V2(\n",
        "    input_shape=(100,100,3),\n",
        "    include_top=False\n",
        ")\n",
        "\n",
        "res.trainable=False"
      ],
      "metadata": {
        "colab": {
          "base_uri": "https://localhost:8080/"
        },
        "id": "6SXBjG56xiy-",
        "outputId": "0b6c61d5-4dd1-400e-f302-597d387468b9"
      },
      "execution_count": null,
      "outputs": [
        {
          "output_type": "stream",
          "name": "stdout",
          "text": [
            "Downloading data from https://storage.googleapis.com/tensorflow/keras-applications/resnet/resnet50v2_weights_tf_dim_ordering_tf_kernels_notop.h5\n",
            "94668760/94668760 [==============================] - 2s 0us/step\n"
          ]
        }
      ]
    },
    {
      "cell_type": "code",
      "source": [
        "#Modelin oluşturulması\n",
        "res_model=Sequential()\n",
        "res_model.add(res)\n",
        "res_model.add(Dropout(0.25))\n",
        "res_model.add(MaxPooling2D())\n",
        "res_model.add(Flatten())\n",
        "res_model.add(Dense(256,activation='relu'))\n",
        "res_model.add(BatchNormalization())\n",
        "res_model.add(Dropout(0.5))\n",
        "res_model.add(Dense(3,activation='softmax'))"
      ],
      "metadata": {
        "id": "zWXjCq1zx1LD"
      },
      "execution_count": null,
      "outputs": []
    },
    {
      "cell_type": "code",
      "source": [
        "#Modelin derlenmesi\n",
        "res_model.compile(loss='categorical_crossentropy',optimizer='adam',metrics=['accuracy'])"
      ],
      "metadata": {
        "id": "yiCuE4QZx3lj"
      },
      "execution_count": null,
      "outputs": []
    },
    {
      "cell_type": "code",
      "source": [
        "#Modelin eğitilmesi\n",
        "hist=res_model.fit(x_train,train_yCl,\n",
        "                   batch_size=128,\n",
        "                   epochs=10,\n",
        "                   validation_data=(x_val,valid_yCl)\n",
        "                   )"
      ],
      "metadata": {
        "colab": {
          "base_uri": "https://localhost:8080/"
        },
        "id": "ysaiy52zx1NL",
        "outputId": "54ceb8f9-da55-42d6-91e4-3b79656fd5d5"
      },
      "execution_count": null,
      "outputs": [
        {
          "output_type": "stream",
          "name": "stdout",
          "text": [
            "Epoch 1/10\n",
            "85/85 [==============================] - 21s 163ms/step - loss: 0.4778 - accuracy: 0.8209 - val_loss: 3.6756 - val_accuracy: 0.6125\n",
            "Epoch 2/10\n",
            "85/85 [==============================] - 8s 97ms/step - loss: 0.3396 - accuracy: 0.8652 - val_loss: 0.8799 - val_accuracy: 0.6550\n",
            "Epoch 3/10\n",
            "85/85 [==============================] - 8s 97ms/step - loss: 0.3050 - accuracy: 0.8791 - val_loss: 0.5889 - val_accuracy: 0.7617\n",
            "Epoch 4/10\n",
            "85/85 [==============================] - 8s 95ms/step - loss: 0.2850 - accuracy: 0.8873 - val_loss: 1.3408 - val_accuracy: 0.6992\n",
            "Epoch 5/10\n",
            "85/85 [==============================] - 9s 102ms/step - loss: 0.2696 - accuracy: 0.8901 - val_loss: 0.9997 - val_accuracy: 0.7100\n",
            "Epoch 6/10\n",
            "85/85 [==============================] - 8s 99ms/step - loss: 0.2661 - accuracy: 0.8951 - val_loss: 0.9607 - val_accuracy: 0.6742\n",
            "Epoch 7/10\n",
            "85/85 [==============================] - 9s 101ms/step - loss: 0.2589 - accuracy: 0.8944 - val_loss: 1.6785 - val_accuracy: 0.6192\n",
            "Epoch 8/10\n",
            "85/85 [==============================] - 8s 100ms/step - loss: 0.2494 - accuracy: 0.8994 - val_loss: 1.0548 - val_accuracy: 0.6725\n",
            "Epoch 9/10\n",
            "85/85 [==============================] - 8s 95ms/step - loss: 0.2485 - accuracy: 0.9021 - val_loss: 1.6501 - val_accuracy: 0.5375\n",
            "Epoch 10/10\n",
            "85/85 [==============================] - 9s 101ms/step - loss: 0.2419 - accuracy: 0.9029 - val_loss: 1.6874 - val_accuracy: 0.6058\n"
          ]
        }
      ]
    },
    {
      "cell_type": "code",
      "source": [
        "#Değerlendirme skorlarının belirlenmesi\n",
        "score_train_RESNET=res_model.evaluate(x_train,train_yCl)\n",
        "print(\"Train Accuracy:\",score_train_RESNET[1])\n",
        "\n",
        "score_test_RESNET=res_model.evaluate(x_test,test_yCl)\n",
        "print(\"Test Accuracy:\",score_test_RESNET[1])\n",
        "\n",
        "score_val_RESNET=res_model.evaluate(x_val,valid_yCl)\n",
        "print(\"Validation Accuracy:\",score_val_RESNET[1])"
      ],
      "metadata": {
        "colab": {
          "base_uri": "https://localhost:8080/"
        },
        "id": "INGK5kK1x6QN",
        "outputId": "e32ac2a1-3814-46de-9a7b-44b9811c046e"
      },
      "execution_count": null,
      "outputs": [
        {
          "output_type": "stream",
          "name": "stdout",
          "text": [
            "338/338 [==============================] - 12s 31ms/step - loss: 1.8762 - accuracy: 0.5768\n",
            "Train Accuracy: 0.5767592787742615\n",
            "94/94 [==============================] - 4s 43ms/step - loss: 1.9832 - accuracy: 0.5653\n",
            "Test Accuracy: 0.5653333067893982\n",
            "38/38 [==============================] - 1s 28ms/step - loss: 1.6874 - accuracy: 0.6058\n",
            "Validation Accuracy: 0.6058333516120911\n"
          ]
        }
      ]
    },
    {
      "cell_type": "code",
      "source": [
        "#Karmaşıklık matrisi için gerekli grafiğin oluşturulması\n",
        "import itertools\n",
        "\n",
        "def plot_confusion_matrix(cm, classes, normalize=True, title='Confusion matrix', cmap=plt.cm.Reds):\n",
        "    \"\"\"\n",
        "    This function prints and plots the confusion matrix.\n",
        "    Normalization can be applied by setting `normalize=True`.\n",
        "    \"\"\"\n",
        "    plt.figure(figsize=(10,10))\n",
        "    plt.imshow(cm, interpolation='nearest', cmap=cmap)\n",
        "    plt.title(title)\n",
        "    plt.colorbar()\n",
        "    tick_marks = np.arange(len(classes))\n",
        "    plt.xticks(tick_marks, classes, rotation=45)\n",
        "    plt.yticks(tick_marks, classes)\n",
        "    if normalize:\n",
        "        cm = cm.astype('float') / cm.sum(axis=1)[:, np.newaxis]\n",
        "        cm = np.around(cm, decimals=2)\n",
        "        cm[np.isnan(cm)] = 0.0\n",
        "    thresh = cm.max() / 2.\n",
        "    for i, j in itertools.product(range(cm.shape[0]), range(cm.shape[1])):\n",
        "        plt.text(j, i, cm[i, j],\n",
        "                 horizontalalignment=\"center\",\n",
        "                 color=\"white\" if cm[i, j] > thresh else \"black\")\n",
        "    plt.tight_layout()\n",
        "    plt.ylabel('True label')\n",
        "    plt.xlabel('Predicted label')"
      ],
      "metadata": {
        "id": "1mKl7P5xpUxe"
      },
      "execution_count": null,
      "outputs": []
    },
    {
      "cell_type": "code",
      "source": [
        "#Değerlendirme skorlarının belirlenmesi\n",
        "from sklearn.metrics import accuracy_score, precision_score, recall_score, f1_score, classification_report,confusion_matrix\n",
        "from keras.utils import to_categorical\n",
        "def evaluate_model(res_model, x_test, y_test):\n",
        "    # Accuracy Score\n",
        "    y_pred = res_model.predict(x_test)\n",
        "    y_test_encoded = to_categorical(y_test)\n",
        "    y_pred_classes = np.argmax(y_pred, axis=1)\n",
        "    y_test_classes = np.argmax(y_test_encoded, axis=1)\n",
        "\n",
        "\n",
        "    accuracy = accuracy_score(y_test_classes, y_pred_classes)\n",
        "    print(f\"Accuracy: {accuracy}\")\n",
        "\n",
        "    # Precision Score\n",
        "    precision = precision_score(y_test_classes, y_pred_classes, average='weighted')\n",
        "    print(f\"Precision: {precision}\")\n",
        "\n",
        "    # Recall Score\n",
        "    recall = recall_score(y_test_classes, y_pred_classes, average='weighted')\n",
        "    print(f\"Recall: {recall}\")\n",
        "\n",
        "    # F1 Score\n",
        "    f1 = f1_score(y_test_classes, y_pred_classes, average='weighted')\n",
        "    print(f\"F1-Score: {f1}\")\n",
        "\n",
        "    # Classification Report\n",
        "    print(\"Classification Report:\")\n",
        "    print(classification_report(y_test_classes, y_pred_classes))\n",
        "\n",
        "    # Confusion Matrix\n",
        "    cm = confusion_matrix(y_test_classes, y_pred_classes)\n",
        "    classes = [\"Adenokarsinom\",\"İyiHuyluDoku\",\"SkuamozHucreKarsinomasi\"]\n",
        "    plot_confusion_matrix(cm, classes, title='Confusion Matrix')\n",
        "\n",
        "# Modelin değerlendirilmesi\n",
        "evaluate_model(res_model, x_test, y_test)"
      ],
      "metadata": {
        "id": "EaBhlTyTpUzm",
        "colab": {
          "base_uri": "https://localhost:8080/",
          "height": 1000
        },
        "outputId": "a2123b54-9af2-4967-d39b-8a2beed59010"
      },
      "execution_count": null,
      "outputs": [
        {
          "output_type": "stream",
          "name": "stdout",
          "text": [
            "94/94 [==============================] - 7s 32ms/step\n",
            "Accuracy: 0.5653333333333334\n",
            "Precision: 0.7852681346354893\n",
            "Recall: 0.5653333333333334\n",
            "F1-Score: 0.4865058221956747\n",
            "Classification Report:\n",
            "              precision    recall  f1-score   support\n",
            "\n",
            "           0       0.92      0.03      0.07      1037\n",
            "           1       1.00      0.69      0.81       970\n",
            "           2       0.43      1.00      0.60       993\n",
            "\n",
            "    accuracy                           0.57      3000\n",
            "   macro avg       0.78      0.57      0.50      3000\n",
            "weighted avg       0.79      0.57      0.49      3000\n",
            "\n"
          ]
        },
        {
          "output_type": "display_data",
          "data": {
            "text/plain": [
              "<Figure size 1000x1000 with 2 Axes>"
            ],
            "image/png": "[encoded data removed]"
          },
          "metadata": {}
        }
      ]
    },
    {
      "cell_type": "markdown",
      "source": [
        "# Veri Seti Ayrımı"
      ],
      "metadata": {
        "id": "oygawzULx-Qx"
      }
    },
    {
      "cell_type": "code",
      "source": [
        "#Verilerin %70 - %30 olarak ayrılması\n",
        "from sklearn.model_selection import train_test_split\n",
        "\n",
        "x_train, x_test, y_train, y_test = train_test_split(X, y, test_size=0.30, random_state =42)\n",
        "\n",
        "x_train, x_val, y_train, y_val = train_test_split(x_train, y_train, test_size=0.10, random_state=42)"
      ],
      "metadata": {
        "id": "3RuDt5-VfXea"
      },
      "execution_count": null,
      "outputs": []
    },
    {
      "cell_type": "code",
      "source": [
        "#Verilerin boyutlarının şekillendirilmesi\n",
        "x_train = np.array(x_train)\n",
        "x_test = np.array(x_test)\n",
        "\n",
        "y_train = np.array(y_train)\n",
        "y_test = np.array(y_test)\n",
        "\n",
        "x_val = np.array(x_val)\n",
        "y_val = np.array(y_val)"
      ],
      "metadata": {
        "id": "h9uL1fMHvTSh"
      },
      "execution_count": null,
      "outputs": []
    },
    {
      "cell_type": "code",
      "source": [
        "#Verilerin boyutlarının yazdırılması\n",
        "print(x_train.shape)\n",
        "print(x_test.shape)\n",
        "print(x_val.shape)\n",
        "\n",
        "print(y_train.shape)\n",
        "print(y_test.shape)\n",
        "print(y_val.shape)"
      ],
      "metadata": {
        "colab": {
          "base_uri": "https://localhost:8080/"
        },
        "id": "O9qRhaIdvTUx",
        "outputId": "6d3b0467-7f8b-494b-a0bc-f4eeda826d57"
      },
      "execution_count": null,
      "outputs": [
        {
          "output_type": "stream",
          "name": "stdout",
          "text": [
            "(9450, 100, 100, 3)\n",
            "(4500, 100, 100, 3)\n",
            "(1050, 100, 100, 3)\n",
            "(9450,)\n",
            "(4500,)\n",
            "(1050,)\n"
          ]
        }
      ]
    },
    {
      "cell_type": "code",
      "source": [
        "#Verilerin kategorize edilmesi\n",
        "import tensorflow as tf\n",
        "\n",
        "train_yCl = tf.keras.utils.to_categorical(y_train, num_classes=3)\n",
        "test_yCl = tf.keras.utils.to_categorical(y_test, num_classes=3)\n",
        "valid_yCl = tf.keras.utils.to_categorical(y_val, num_classes=3)"
      ],
      "metadata": {
        "id": "nTMvvLaavTW5"
      },
      "execution_count": null,
      "outputs": []
    },
    {
      "cell_type": "code",
      "source": [
        "#Modelin oluşturulması\n",
        "from keras.layers import Input, Dense, Activation, BatchNormalization, Flatten, Conv2D, MaxPooling2D, Dropout\n",
        "from keras.models import Sequential\n",
        "\n",
        "model = Sequential()\n",
        "\n",
        "model.add(Conv2D(64, (3,3), padding='same', input_shape=(IMG_SIZE, IMG_SIZE, 3)))\n",
        "model.add(Activation('relu'))\n",
        "model.add(Conv2D(64, (3,3), padding='same'))\n",
        "model.add(Activation('relu'))\n",
        "model.add(MaxPooling2D(pool_size=(2,2)))\n",
        "model.add(BatchNormalization())\n",
        "model.add(Dropout(0.1))\n",
        "\n",
        "model.add(Conv2D(64, (3,3), padding='same'))\n",
        "model.add(Activation('relu'))\n",
        "model.add(Conv2D(64, (3,3), padding='same'))\n",
        "model.add(Activation('relu'))\n",
        "model.add(MaxPooling2D(pool_size=(2,2)))\n",
        "model.add(BatchNormalization())\n",
        "model.add(Dropout(0.1))\n",
        "\n",
        "model.add(Conv2D(128, (3,3), padding='same'))\n",
        "model.add(Activation('relu'))\n",
        "model.add(Conv2D(128, (3,3), padding='same'))\n",
        "model.add(Activation('relu'))\n",
        "model.add(MaxPooling2D(pool_size=(2,2)))\n",
        "model.add(BatchNormalization())\n",
        "model.add(Dropout(0.1))\n",
        "\n",
        "model.add(Flatten())\n",
        "model.add(Dense(1024))\n",
        "model.add(Activation('relu'))\n",
        "model.add(Dropout(0.4))\n",
        "model.add(Dense(1024))\n",
        "model.add(Activation('relu'))\n",
        "model.add(Dense(3))\n",
        "model.add(Activation('softmax'))\n",
        "model.summary()\n",
        "#Modelin derlenmesi\n",
        "model.compile(loss=\"categorical_crossentropy\", optimizer=\"adam\", metrics=['accuracy'])"
      ],
      "metadata": {
        "id": "iGLfDneGvauS"
      },
      "execution_count": null,
      "outputs": []
    },
    {
      "cell_type": "code",
      "source": [
        "from tensorflow import keras\n",
        "\n",
        "callback_list = [\n",
        "    keras.callbacks.ModelCheckpoint(\n",
        "        filepath='model.h5',\n",
        "        monitor = 'val_accuracy', save_best_only=True, verbose=3\n",
        "    ),\n",
        "    keras.callbacks.EarlyStopping(monitor='val_loss', patience=10, verbose=3)\n",
        "]"
      ],
      "metadata": {
        "id": "caxpA5F3vawh"
      },
      "execution_count": null,
      "outputs": []
    },
    {
      "cell_type": "code",
      "source": [
        "#Modelin eğitilmesi\n",
        "history = model.fit(x_train, train_yCl,\n",
        "                    batch_size=64,\n",
        "                    validation_data = (x_val, valid_yCl),\n",
        "                    callbacks = callback_list,\n",
        "                    epochs = 20\n",
        "                    )"
      ],
      "metadata": {
        "colab": {
          "base_uri": "https://localhost:8080/"
        },
        "id": "8DvtyZwjvaya",
        "outputId": "77ff37b7-d1d9-47bb-faca-36d214ab7502"
      },
      "execution_count": null,
      "outputs": [
        {
          "output_type": "stream",
          "name": "stdout",
          "text": [
            "Epoch 1/20\n",
            "148/148 [==============================] - ETA: 0s - loss: 0.6011 - accuracy: 0.8643\n",
            "Epoch 1: val_accuracy improved from -inf to 0.62857, saving model to model.h5\n"
          ]
        },
        {
          "output_type": "stream",
          "name": "stderr",
          "text": [
            "/usr/local/lib/python3.10/dist-packages/keras/src/engine/training.py:3103: UserWarning: You are saving your model as an HDF5 file via `model.save()`. This file format is considered legacy. We recommend using instead the native Keras format, e.g. `model.save('my_model.keras')`.\n",
            "  saving_api.save_model(\n"
          ]
        },
        {
          "output_type": "stream",
          "name": "stdout",
          "text": [
            "\b\b\b\b\b\b\b\b\b\b\b\b\b\b\b\b\b\b\b\b\b\b\b\b\b\b\b\b\b\b\b\b\b\b\b\b\b\b\b\b\b\b\b\b\b\b\b\b\b\b\b\b\b\b\b\b\b\b\b\b\b\b\b\b\b\b\b\b\b\b\b\b\b\b\b\b\b\b\b\b\b\b\b\b\r148/148 [==============================] - 22s 152ms/step - loss: 0.6011 - accuracy: 0.8643 - val_loss: 0.9752 - val_accuracy: 0.6286\n",
            "Epoch 2/20\n",
            "148/148 [==============================] - ETA: 0s - loss: 0.1593 - accuracy: 0.9392\n",
            "Epoch 2: val_accuracy improved from 0.62857 to 0.92476, saving model to model.h5\n",
            "148/148 [==============================] - 19s 129ms/step - loss: 0.1593 - accuracy: 0.9392 - val_loss: 0.1856 - val_accuracy: 0.9248\n",
            "Epoch 3/20\n",
            "148/148 [==============================] - ETA: 0s - loss: 0.1096 - accuracy: 0.9574\n",
            "Epoch 3: val_accuracy did not improve from 0.92476\n",
            "148/148 [==============================] - 18s 119ms/step - loss: 0.1096 - accuracy: 0.9574 - val_loss: 1.3725 - val_accuracy: 0.6295\n",
            "Epoch 4/20\n",
            "148/148 [==============================] - ETA: 0s - loss: 0.0983 - accuracy: 0.9654\n",
            "Epoch 4: val_accuracy did not improve from 0.92476\n",
            "148/148 [==============================] - 18s 122ms/step - loss: 0.0983 - accuracy: 0.9654 - val_loss: 0.4773 - val_accuracy: 0.8610\n",
            "Epoch 5/20\n",
            "148/148 [==============================] - ETA: 0s - loss: 0.0772 - accuracy: 0.9730\n",
            "Epoch 5: val_accuracy did not improve from 0.92476\n",
            "148/148 [==============================] - 18s 119ms/step - loss: 0.0772 - accuracy: 0.9730 - val_loss: 0.7340 - val_accuracy: 0.8800\n",
            "Epoch 6/20\n",
            "148/148 [==============================] - ETA: 0s - loss: 0.0496 - accuracy: 0.9824\n",
            "Epoch 6: val_accuracy did not improve from 0.92476\n",
            "148/148 [==============================] - 18s 119ms/step - loss: 0.0496 - accuracy: 0.9824 - val_loss: 2.1870 - val_accuracy: 0.7267\n",
            "Epoch 7/20\n",
            "148/148 [==============================] - ETA: 0s - loss: 0.0593 - accuracy: 0.9812\n",
            "Epoch 7: val_accuracy did not improve from 0.92476\n",
            "148/148 [==============================] - 18s 121ms/step - loss: 0.0593 - accuracy: 0.9812 - val_loss: 56.0302 - val_accuracy: 0.3838\n",
            "Epoch 8/20\n",
            "148/148 [==============================] - ETA: 0s - loss: 0.0522 - accuracy: 0.9828\n",
            "Epoch 8: val_accuracy improved from 0.92476 to 0.93619, saving model to model.h5\n",
            "148/148 [==============================] - 18s 125ms/step - loss: 0.0522 - accuracy: 0.9828 - val_loss: 0.1752 - val_accuracy: 0.9362\n",
            "Epoch 9/20\n",
            "148/148 [==============================] - ETA: 0s - loss: 0.0282 - accuracy: 0.9902\n",
            "Epoch 9: val_accuracy did not improve from 0.93619\n",
            "148/148 [==============================] - 17s 118ms/step - loss: 0.0282 - accuracy: 0.9902 - val_loss: 0.7141 - val_accuracy: 0.8476\n",
            "Epoch 10/20\n",
            "148/148 [==============================] - ETA: 0s - loss: 0.0918 - accuracy: 0.9764\n",
            "Epoch 10: val_accuracy did not improve from 0.93619\n",
            "148/148 [==============================] - 18s 120ms/step - loss: 0.0918 - accuracy: 0.9764 - val_loss: 3.5807 - val_accuracy: 0.6581\n",
            "Epoch 11/20\n",
            "148/148 [==============================] - ETA: 0s - loss: 0.1764 - accuracy: 0.9397\n",
            "Epoch 11: val_accuracy did not improve from 0.93619\n",
            "148/148 [==============================] - 18s 119ms/step - loss: 0.1764 - accuracy: 0.9397 - val_loss: 38.4325 - val_accuracy: 0.4219\n",
            "Epoch 12/20\n",
            "148/148 [==============================] - ETA: 0s - loss: 0.0533 - accuracy: 0.9802\n",
            "Epoch 12: val_accuracy did not improve from 0.93619\n",
            "148/148 [==============================] - 18s 118ms/step - loss: 0.0533 - accuracy: 0.9802 - val_loss: 2.4231 - val_accuracy: 0.6724\n",
            "Epoch 13/20\n",
            "148/148 [==============================] - ETA: 0s - loss: 0.0302 - accuracy: 0.9881\n",
            "Epoch 13: val_accuracy did not improve from 0.93619\n",
            "148/148 [==============================] - 18s 119ms/step - loss: 0.0302 - accuracy: 0.9881 - val_loss: 0.5378 - val_accuracy: 0.8924\n",
            "Epoch 14/20\n",
            "148/148 [==============================] - ETA: 0s - loss: 0.0189 - accuracy: 0.9942\n",
            "Epoch 14: val_accuracy did not improve from 0.93619\n",
            "148/148 [==============================] - 17s 116ms/step - loss: 0.0189 - accuracy: 0.9942 - val_loss: 2.1984 - val_accuracy: 0.7400\n",
            "Epoch 15/20\n",
            "148/148 [==============================] - ETA: 0s - loss: 0.0200 - accuracy: 0.9925\n",
            "Epoch 15: val_accuracy did not improve from 0.93619\n",
            "148/148 [==============================] - 17s 117ms/step - loss: 0.0200 - accuracy: 0.9925 - val_loss: 0.4655 - val_accuracy: 0.8962\n",
            "Epoch 16/20\n",
            "148/148 [==============================] - ETA: 0s - loss: 0.0168 - accuracy: 0.9939\n",
            "Epoch 16: val_accuracy did not improve from 0.93619\n",
            "148/148 [==============================] - 17s 117ms/step - loss: 0.0168 - accuracy: 0.9939 - val_loss: 0.6287 - val_accuracy: 0.8981\n",
            "Epoch 17/20\n",
            "148/148 [==============================] - ETA: 0s - loss: 0.0096 - accuracy: 0.9974\n",
            "Epoch 17: val_accuracy improved from 0.93619 to 0.98190, saving model to model.h5\n",
            "148/148 [==============================] - 18s 125ms/step - loss: 0.0096 - accuracy: 0.9974 - val_loss: 0.0866 - val_accuracy: 0.9819\n",
            "Epoch 18/20\n",
            "148/148 [==============================] - ETA: 0s - loss: 0.0132 - accuracy: 0.9949\n",
            "Epoch 18: val_accuracy did not improve from 0.98190\n",
            "148/148 [==============================] - 17s 117ms/step - loss: 0.0132 - accuracy: 0.9949 - val_loss: 0.2414 - val_accuracy: 0.9476\n",
            "Epoch 19/20\n",
            "148/148 [==============================] - ETA: 0s - loss: 0.0174 - accuracy: 0.9953\n",
            "Epoch 19: val_accuracy did not improve from 0.98190\n",
            "148/148 [==============================] - 17s 117ms/step - loss: 0.0174 - accuracy: 0.9953 - val_loss: 0.2884 - val_accuracy: 0.9143\n",
            "Epoch 20/20\n",
            "148/148 [==============================] - ETA: 0s - loss: 0.0124 - accuracy: 0.9961\n",
            "Epoch 20: val_accuracy did not improve from 0.98190\n",
            "148/148 [==============================] - 17s 117ms/step - loss: 0.0124 - accuracy: 0.9961 - val_loss: 0.2488 - val_accuracy: 0.9571\n"
          ]
        }
      ]
    },
    {
      "cell_type": "code",
      "source": [
        "#Eğitim,test ve validation skorlarının doğruluk değerinin hesaplanması\n",
        "score_valid = model.evaluate(x_val, valid_yCl)\n",
        "print(\"Validation Accuracy: \", score_valid[1])\n",
        "\n",
        "score_test = model.evaluate(x_test, test_yCl)\n",
        "print(\"Validation Accuracy: \", score_test[1])\n",
        "\n",
        "score_train = model.evaluate(x_train, train_yCl)\n",
        "print(\"Validation Accuracy: \", score_train[1])"
      ],
      "metadata": {
        "colab": {
          "base_uri": "https://localhost:8080/"
        },
        "id": "eZjvA2cpva0Z",
        "outputId": "26902c18-c7af-4a43-c890-eecd14279e6c"
      },
      "execution_count": null,
      "outputs": [
        {
          "output_type": "stream",
          "name": "stdout",
          "text": [
            "33/33 [==============================] - 1s 15ms/step - loss: 0.2488 - accuracy: 0.9571\n",
            "Validation Accuracy:  0.9571428298950195\n",
            "141/141 [==============================] - 4s 26ms/step - loss: 0.2305 - accuracy: 0.9538\n",
            "Validation Accuracy:  0.9537777900695801\n",
            "296/296 [==============================] - 5s 16ms/step - loss: 0.0318 - accuracy: 0.9891\n",
            "Validation Accuracy:  0.9891005158424377\n"
          ]
        }
      ]
    },
    {
      "cell_type": "code",
      "source": [
        "#Değerlendirme skorlarının belirlenmesi\n",
        "from sklearn.metrics import accuracy_score, precision_score, recall_score, f1_score, classification_report,confusion_matrix\n",
        "from keras.utils import to_categorical\n",
        "def evaluate_model(model, x_test, y_test):\n",
        "    # Accuracy Score\n",
        "    y_pred = model.predict(x_test)\n",
        "    y_test_encoded = to_categorical(y_test)\n",
        "    y_pred_classes = np.argmax(y_pred, axis=1)\n",
        "    y_test_classes = np.argmax(y_test_encoded, axis=1)\n",
        "\n",
        "\n",
        "    accuracy = accuracy_score(y_test_classes, y_pred_classes)\n",
        "    print(f\"Accuracy: {accuracy}\")\n",
        "\n",
        "    # Precision Score\n",
        "    precision = precision_score(y_test_classes, y_pred_classes, average='weighted')\n",
        "    print(f\"Precision: {precision}\")\n",
        "\n",
        "    # Recall Score\n",
        "    recall = recall_score(y_test_classes, y_pred_classes, average='weighted')\n",
        "    print(f\"Recall: {recall}\")\n",
        "\n",
        "    # F1 Score\n",
        "    f1 = f1_score(y_test_classes, y_pred_classes, average='weighted')\n",
        "    print(f\"F1-Score: {f1}\")\n",
        "\n",
        "    # Classification Report\n",
        "    print(\"Classification Report:\")\n",
        "    print(classification_report(y_test_classes, y_pred_classes))\n",
        "\n",
        "    # Confusion Matrix\n",
        "    cm = confusion_matrix(y_test_classes, y_pred_classes)\n",
        "    classes = [\"Adenokarsinom\",\"İyiHuyluDoku\",\"SkuamozHucreKarsinomasi\"]\n",
        "    plot_confusion_matrix(cm, classes, title='Confusion Matrix')\n",
        "\n",
        "# Modelin değerlendirilmesi\n",
        "evaluate_model(model, x_test, y_test)"
      ],
      "metadata": {
        "colab": {
          "base_uri": "https://localhost:8080/",
          "height": 1000
        },
        "id": "IDuBtvclwpUc",
        "outputId": "3d2ba05d-c7e8-45c4-858f-afa52358759d"
      },
      "execution_count": null,
      "outputs": [
        {
          "output_type": "stream",
          "name": "stdout",
          "text": [
            "141/141 [==============================] - 2s 12ms/step\n",
            "Accuracy: 0.9537777777777777\n",
            "Precision: 0.9577834140675471\n",
            "Recall: 0.9537777777777777\n",
            "F1-Score: 0.9535038172837829\n",
            "Classification Report:\n",
            "              precision    recall  f1-score   support\n",
            "\n",
            "           0       0.99      0.87      0.93      1524\n",
            "           1       0.99      1.00      1.00      1492\n",
            "           2       0.89      0.99      0.94      1484\n",
            "\n",
            "    accuracy                           0.95      4500\n",
            "   macro avg       0.96      0.95      0.95      4500\n",
            "weighted avg       0.96      0.95      0.95      4500\n",
            "\n"
          ]
        },
        {
          "output_type": "display_data",
          "data": {
            "text/plain": [
              "<Figure size 1000x1000 with 2 Axes>"
            ],
            "image/png": "[encoded data removed]"
          },
          "metadata": {}
        }
      ]
    },
    {
      "cell_type": "markdown",
      "source": [
        "# Transfer Learning"
      ],
      "metadata": {
        "id": "ni9der0Tyopj"
      }
    },
    {
      "cell_type": "code",
      "source": [
        "#Modelin tanımlanması\n",
        "res=tf.keras.applications.ResNet50V2(\n",
        "    input_shape=(100,100,3),\n",
        "    include_top=False\n",
        ")\n",
        "\n",
        "res.trainable=False"
      ],
      "metadata": {
        "id": "A8tu1IC6wpYb"
      },
      "execution_count": null,
      "outputs": []
    },
    {
      "cell_type": "code",
      "source": [
        "#Modelin oluşturulması\n",
        "res_model=Sequential()\n",
        "res_model.add(res)\n",
        "res_model.add(Dropout(0.25))\n",
        "res_model.add(MaxPooling2D())\n",
        "res_model.add(Flatten())\n",
        "res_model.add(Dense(256,activation='relu'))\n",
        "res_model.add(BatchNormalization())\n",
        "res_model.add(Dropout(0.5))\n",
        "res_model.add(Dense(3,activation='softmax'))"
      ],
      "metadata": {
        "id": "QWWZ0D64y4kj"
      },
      "execution_count": null,
      "outputs": []
    },
    {
      "cell_type": "code",
      "source": [
        "#Modelin derlenmesi\n",
        "res_model.compile(loss='categorical_crossentropy',optimizer='adam',metrics=['accuracy'])"
      ],
      "metadata": {
        "id": "l3I1FHgCy4ml"
      },
      "execution_count": null,
      "outputs": []
    },
    {
      "cell_type": "code",
      "source": [
        "#Modelin eğitilmesi\n",
        "hist=res_model.fit(x_train,train_yCl,\n",
        "                   batch_size=128,\n",
        "                   epochs=10,\n",
        "                   validation_data=(x_val,valid_yCl)\n",
        "                   )"
      ],
      "metadata": {
        "colab": {
          "base_uri": "https://localhost:8080/"
        },
        "id": "bzZ_HOpby4oj",
        "outputId": "63b6a0ab-bf10-4120-8486-7ba21103b539"
      },
      "execution_count": null,
      "outputs": [
        {
          "output_type": "stream",
          "name": "stdout",
          "text": [
            "Epoch 1/10\n",
            "74/74 [==============================] - 15s 138ms/step - loss: 0.4626 - accuracy: 0.8234 - val_loss: 1.2969 - val_accuracy: 0.5952\n",
            "Epoch 2/10\n",
            "74/74 [==============================] - 7s 98ms/step - loss: 0.3385 - accuracy: 0.8665 - val_loss: 0.2660 - val_accuracy: 0.9105\n",
            "Epoch 3/10\n",
            "74/74 [==============================] - 8s 104ms/step - loss: 0.3072 - accuracy: 0.8781 - val_loss: 0.9358 - val_accuracy: 0.6857\n",
            "Epoch 4/10\n",
            "74/74 [==============================] - 7s 97ms/step - loss: 0.2848 - accuracy: 0.8851 - val_loss: 0.6994 - val_accuracy: 0.7324\n",
            "Epoch 5/10\n",
            "74/74 [==============================] - 7s 96ms/step - loss: 0.2772 - accuracy: 0.8898 - val_loss: 1.5955 - val_accuracy: 0.5724\n",
            "Epoch 6/10\n",
            "74/74 [==============================] - 7s 96ms/step - loss: 0.2703 - accuracy: 0.8926 - val_loss: 0.8224 - val_accuracy: 0.7124\n",
            "Epoch 7/10\n",
            "74/74 [==============================] - 7s 95ms/step - loss: 0.2712 - accuracy: 0.8892 - val_loss: 1.0886 - val_accuracy: 0.6819\n",
            "Epoch 8/10\n",
            "74/74 [==============================] - 7s 95ms/step - loss: 0.2509 - accuracy: 0.8984 - val_loss: 3.2614 - val_accuracy: 0.3362\n",
            "Epoch 9/10\n",
            "74/74 [==============================] - 7s 94ms/step - loss: 0.2594 - accuracy: 0.8942 - val_loss: 1.2862 - val_accuracy: 0.6486\n",
            "Epoch 10/10\n",
            "74/74 [==============================] - 7s 96ms/step - loss: 0.2454 - accuracy: 0.8993 - val_loss: 1.1467 - val_accuracy: 0.6648\n"
          ]
        }
      ]
    },
    {
      "cell_type": "code",
      "source": [
        "#Doğruluk skorlarının belirlenmesi\n",
        "score_train_RESNET=res_model.evaluate(x_train,train_yCl)\n",
        "print(\"Train Accuracy:\",score_train_RESNET[1])\n",
        "\n",
        "score_test_RESNET=res_model.evaluate(x_test,test_yCl)\n",
        "print(\"Test Accuracy:\",score_train_RESNET[1])\n",
        "\n",
        "score_val_RESNET=res_model.evaluate(x_val,valid_yCl)\n",
        "print(\"Validation Accuracy:\",score_val_RESNET[1])"
      ],
      "metadata": {
        "colab": {
          "base_uri": "https://localhost:8080/"
        },
        "id": "2GyfTtuMy90r",
        "outputId": "76958986-0850-44aa-9826-fe912c634605"
      },
      "execution_count": null,
      "outputs": [
        {
          "output_type": "stream",
          "name": "stdout",
          "text": [
            "296/296 [==============================] - 9s 31ms/step - loss: 1.1304 - accuracy: 0.6652\n",
            "Train Accuracy: 0.6651852130889893\n",
            "141/141 [==============================] - 5s 35ms/step - loss: 1.2005 - accuracy: 0.6644\n",
            "Test Accuracy: 0.6651852130889893\n",
            "33/33 [==============================] - 1s 27ms/step - loss: 1.1467 - accuracy: 0.6648\n",
            "Validation Accuracy: 0.6647619009017944\n"
          ]
        }
      ]
    },
    {
      "cell_type": "code",
      "source": [
        "#Değerlendirme skorlarının belirlenmesi\n",
        "from sklearn.metrics import accuracy_score, precision_score, recall_score, f1_score, classification_report,confusion_matrix\n",
        "from keras.utils import to_categorical\n",
        "def evaluate_model(res_model, x_test, y_test):\n",
        "    # Accuracy Score\n",
        "    y_pred = res_model.predict(x_test)\n",
        "    y_test_encoded = to_categorical(y_test)\n",
        "    y_pred_classes = np.argmax(y_pred, axis=1)\n",
        "    y_test_classes = np.argmax(y_test_encoded, axis=1)\n",
        "\n",
        "\n",
        "    accuracy = accuracy_score(y_test_classes, y_pred_classes)\n",
        "    print(f\"Accuracy: {accuracy}\")\n",
        "\n",
        "    # Precision Score\n",
        "    precision = precision_score(y_test_classes, y_pred_classes, average='weighted')\n",
        "    print(f\"Precision: {precision}\")\n",
        "\n",
        "    # Recall Score\n",
        "    recall = recall_score(y_test_classes, y_pred_classes, average='weighted')\n",
        "    print(f\"Recall: {recall}\")\n",
        "\n",
        "    # F1 Score\n",
        "    f1 = f1_score(y_test_classes, y_pred_classes, average='weighted')\n",
        "    print(f\"F1-Score: {f1}\")\n",
        "\n",
        "    # Classification Report\n",
        "    print(\"Classification Report:\")\n",
        "    print(classification_report(y_test_classes, y_pred_classes))\n",
        "\n",
        "    # Confusion Matrix\n",
        "    cm = confusion_matrix(y_test_classes, y_pred_classes)\n",
        "    classes = [\"Adenokarsinom\",\"İyiHuyluDoku\",\"SkuamozHucreKarsinomasi\"]\n",
        "    plot_confusion_matrix(cm, classes, title='Confusion Matrix')\n",
        "\n",
        "# Modelin değerlendirilmesi\n",
        "evaluate_model(res_model, x_test, y_test)"
      ],
      "metadata": {
        "id": "uPO9m4pi1X6V",
        "colab": {
          "base_uri": "https://localhost:8080/",
          "height": 1000
        },
        "outputId": "9efde3be-8a61-4bd5-9461-601c6643814e"
      },
      "execution_count": null,
      "outputs": [
        {
          "output_type": "stream",
          "name": "stdout",
          "text": [
            "141/141 [==============================] - 4s 25ms/step\n",
            "Accuracy: 0.6644444444444444\n",
            "Precision: 0.8183061674892661\n",
            "Recall: 0.6644444444444444\n",
            "F1-Score: 0.6116466007113779\n",
            "Classification Report:\n",
            "              precision    recall  f1-score   support\n",
            "\n",
            "           0       0.95      0.15      0.25      1524\n",
            "           1       1.00      0.86      0.93      1492\n",
            "           2       0.50      1.00      0.66      1484\n",
            "\n",
            "    accuracy                           0.66      4500\n",
            "   macro avg       0.82      0.67      0.61      4500\n",
            "weighted avg       0.82      0.66      0.61      4500\n",
            "\n"
          ]
        },
        {
          "output_type": "display_data",
          "data": {
            "text/plain": [
              "<Figure size 1000x1000 with 2 Axes>"
            ],
            "image/png": "[encoded data removed]"
          },
          "metadata": {}
        }
      ]
    }
  ]
}